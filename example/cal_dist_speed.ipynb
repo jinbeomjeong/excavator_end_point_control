{
 "cells": [
  {
   "cell_type": "code",
   "execution_count": 1,
   "metadata": {
    "pycharm": {
     "is_executing": true
    },
    "tags": []
   },
   "outputs": [],
   "source": [
    "import time, sys, os\n",
    "import numpy as np\n",
    "\n",
    "sys.path.append(os.path.dirname(os.path.abspath(globals()['_dh'][0])))\n",
    "\n",
    "from utils.warning_target import get_distance_opt, get_distance"
   ]
  },
  {
   "cell_type": "code",
   "execution_count": 2,
   "metadata": {
    "tags": []
   },
   "outputs": [],
   "source": [
    "target = np.random.randint(5, size=(10000000, 2))"
   ]
  },
  {
   "cell_type": "code",
   "execution_count": 9,
   "metadata": {
    "tags": []
   },
   "outputs": [
    {
     "name": "stdout",
     "output_type": "stream",
     "text": [
      "53.63882851600647\n"
     ]
    }
   ],
   "source": [
    "t0 = time.time()\n",
    "dist_1 = get_distance(np.array([-1.2, 5.6]), target)\n",
    "print(time.time() - t0)"
   ]
  },
  {
   "cell_type": "code",
   "execution_count": 11,
   "metadata": {
    "tags": []
   },
   "outputs": [
    {
     "name": "stdout",
     "output_type": "stream",
     "text": [
      "0.05001115798950195\n"
     ]
    }
   ],
   "source": [
    "t0 = time.time()\n",
    "dist_2, in_work = get_distance_opt(np.array([-1.2, 5.6]), target, 10)\n",
    "print(time.time() - t0)"
   ]
  },
  {
   "cell_type": "code",
   "execution_count": 12,
   "metadata": {
    "tags": []
   },
   "outputs": [
    {
     "name": "stdout",
     "output_type": "stream",
     "text": [
      "[2.7202941  5.72712843 7.64198927 ... 2.7202941  4.49444101 2.7202941 ]\n",
      "[2.7202941  5.72712843 7.64198927 ... 2.7202941  4.49444101 2.7202941 ]\n"
     ]
    }
   ],
   "source": [
    "print(dist_1)\n",
    "print(dist_2)"
   ]
  },
  {
   "cell_type": "code",
   "execution_count": 13,
   "metadata": {},
   "outputs": [
    {
     "name": "stdout",
     "output_type": "stream",
     "text": [
      "True\n"
     ]
    }
   ],
   "source": [
    "print(in_work)"
   ]
  },
  {
   "cell_type": "code",
   "execution_count": null,
   "metadata": {},
   "outputs": [],
   "source": []
  }
 ],
 "metadata": {
  "kernelspec": {
   "display_name": "Python 3 (ipykernel)",
   "language": "python",
   "name": "python3"
  },
  "language_info": {
   "codemirror_mode": {
    "name": "ipython",
    "version": 3
   },
   "file_extension": ".py",
   "mimetype": "text/x-python",
   "name": "python",
   "nbconvert_exporter": "python",
   "pygments_lexer": "ipython3",
   "version": "3.8.10"
  }
 },
 "nbformat": 4,
 "nbformat_minor": 4
}
